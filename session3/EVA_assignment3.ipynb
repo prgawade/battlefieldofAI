{
  "nbformat": 4,
  "nbformat_minor": 0,
  "metadata": {
    "colab": {
      "provenance": [],
      "include_colab_link": true
    },
    "kernelspec": {
      "name": "python3",
      "display_name": "Python 3"
    },
    "accelerator": "GPU",
    "gpuClass": "standard"
  },
  "cells": [
    {
      "cell_type": "markdown",
      "metadata": {
        "id": "view-in-github",
        "colab_type": "text"
      },
      "source": [
        "<a href=\"https://colab.research.google.com/github/prgawade/battlefieldofAI/blob/main/session3/EVA_assignment3.ipynb\" target=\"_parent\"><img src=\"https://colab.research.google.com/assets/colab-badge.svg\" alt=\"Open In Colab\"/></a>"
      ]
    },
    {
      "cell_type": "code",
      "metadata": {
        "id": "0m2JWFliFfKT"
      },
      "source": [
        "from __future__ import print_function\n",
        "#PyTorch is an open source machine learning framework\n",
        "#PyTorch is a Python package that provides two high-level features:\n",
        "#Tensor computation (like NumPy) with strong GPU acceleration\n",
        "#Deep neural networks built on a tape-based autograd system\n",
        "import torch\n",
        "# A neural networks library deeply integrated with autograd designed for maximum flexibility\n",
        "import torch.nn as nn\n",
        "#Convolution functions such as conv1d , conv2d, conv3d\n",
        "import torch.nn.functional as F\n",
        "#torch.optim is a package implementing various optimization algorithms.\n",
        "# Adam - Implements Adam algorithm\n",
        "# SGD Implements stochastic gradient descent (optionally with momentum).\n",
        "import torch.optim as optim\n",
        "# The torchvision package consists of popular datasets, model architectures, and common image transformations for computer vision.\n",
        "# Transforms are common image transformations available in the torchvision.transforms module. \n",
        "from torchvision import datasets, transforms"
      ],
      "execution_count": 1,
      "outputs": []
    },
    {
      "cell_type": "code",
      "metadata": {
        "id": "h_Cx9q2QFgM7",
        "colab": {
          "base_uri": "https://localhost:8080/",
          "height": 105
        },
        "outputId": "7d7f2619-27ae-4c2b-fa42-54a59b513d66"
      },
      "source": [
        "\"\"\"\n",
        "class Net(nn.Module):\n",
        "    def __init__(self):\n",
        "        super(Net, self).__init__()\n",
        "        # torch.nn.Conv2d Applies a 2D convolution over an input signal composed of several input planes.\n",
        "        #torch.nn.Conv2d(in_channels, out_channels, kernel_size, stride=1, padding=0, dilation=1, groups=1, bias=True, padding_mode='zeros', device=None, dtype=None)\n",
        "        # input channel is 1 , output channels 32 , number of kernels is 32, size of kernel is 3 X 3\n",
        "        #28 X 28 X 1 | (3 X 3 X 1) X 32 | 26 X 26 X 32\n",
        "        #self.conv1 = nn.Conv2d(1, 32, 3, padding=1) #input - 28 X 28 X 1 # Output - 28 X 28 X 32 # output  RF - 3 \n",
        "        self.conv1 = nn.Sequential(\n",
        "            nn.Conv2d(1, 32, 3, padding=1),\n",
        "            nn.ReLU(),\n",
        "            nn.BatchNorm2d(32),\n",
        "            nn.Dropout(0.25)\n",
        "        )\n",
        "        #self.conv2 = nn.Conv2d(32, 64, 3, padding=1) #input - 28 X 28 X 32 # Output - 28 X 28 X 64 # output  RF - 5\n",
        "        self.conv2 = nn.Sequential(\n",
        "            nn.Conv2d(32, 64, 3, padding=1),\n",
        "            nn.ReLU(),\n",
        "            nn.BatchNorm2d(64),\n",
        "            nn.Dropout(0.25)\n",
        "        )\n",
        "\n",
        "        self.selfconv = nn.Conv2d(64, 16, 1, padding=1)\n",
        "\n",
        "        self.pool1 = nn.MaxPool2d(2, 2) #input - 28 X 28 X 64 # Output - 14 X 14 X 64 # output  RF - 10\n",
        "        #self.conv3 = nn.Conv2d(16, 32, 3, padding=1) # input 14 X 14 X 64 # Output - 14 X 14 X 128 # output  RF - 12\n",
        "        self.conv3 = nn.Sequential(\n",
        "            nn.Conv2d(16, 32, 3, padding=1),\n",
        "            nn.ReLU(),\n",
        "            nn.BatchNorm2d(32),\n",
        "            nn.Dropout(0.25)\n",
        "        )\n",
        "        #self.conv4 = nn.Conv2d(32, 64, 3, padding=1) # input 14 X 14 X 128 # Output - 14 X 14 X 256 # output  RF - 14\n",
        "        self.conv4 = nn.Sequential(\n",
        "            nn.Conv2d(32, 64, 3, padding=1),\n",
        "            nn.ReLU(),\n",
        "            nn.BatchNorm2d(64),\n",
        "            nn.Dropout(0.25)\n",
        "        )\n",
        "        self.pool2 = nn.MaxPool2d(2, 2) # input 14 X 14 X 256 # Output - 7 X 7 X 256 # output  RF - 28\n",
        "        self.conv5 = nn.Conv2d(64, 128, 3) # input 7 X 7 X 256 # Output - 5 X 5 X 512 # output  RF - \n",
        "        self.conv6 = nn.Conv2d(128, 256, 3)# input 5 X 5 X 512 # Output - 3 X 3 X 1024 # output  RF\n",
        "        self.conv7 = nn.Conv2d(256, 10, 3) # input 3 X 3 X 1024 # Output - 1 X 1 X 10 # output  RF\n",
        "\n",
        "    def forward(self, x):\n",
        "        #x = self.pool1()\n",
        "        x  = F.relu(self.conv1(x))\n",
        "\n",
        "        x  = F.relu(self.conv2(x))\n",
        "        x   = self.selfconv(x)\n",
        "        x  = self.pool1(x)\n",
        "        \n",
        "        x = self.pool2(F.relu(self.conv4(F.relu(self.conv3(x)))))\n",
        "        #x   = self.selfconv(x)\n",
        "        x = F.relu(self.conv6(F.relu(self.conv5(x))))\n",
        "        x = self.conv7(x)\n",
        "        x = x.view(-1, 10)\n",
        "        return F.log_softmax(x)\n",
        "\"\"\"\n",
        "  "
      ],
      "execution_count": 2,
      "outputs": [
        {
          "output_type": "execute_result",
          "data": {
            "text/plain": [
              "\"\\nclass Net(nn.Module):\\n    def __init__(self):\\n        super(Net, self).__init__()\\n        # torch.nn.Conv2d Applies a 2D convolution over an input signal composed of several input planes.\\n        #torch.nn.Conv2d(in_channels, out_channels, kernel_size, stride=1, padding=0, dilation=1, groups=1, bias=True, padding_mode='zeros', device=None, dtype=None)\\n        # input channel is 1 , output channels 32 , number of kernels is 32, size of kernel is 3 X 3\\n        #28 X 28 X 1 | (3 X 3 X 1) X 32 | 26 X 26 X 32\\n        #self.conv1 = nn.Conv2d(1, 32, 3, padding=1) #input - 28 X 28 X 1 # Output - 28 X 28 X 32 # output  RF - 3 \\n        self.conv1 = nn.Sequential(\\n            nn.Conv2d(1, 32, 3, padding=1),\\n            nn.ReLU(),\\n            nn.BatchNorm2d(32),\\n            nn.Dropout(0.25)\\n        )\\n        #self.conv2 = nn.Conv2d(32, 64, 3, padding=1) #input - 28 X 28 X 32 # Output - 28 X 28 X 64 # output  RF - 5\\n        self.conv2 = nn.Sequential(\\n            nn.Conv2d(32, 64, 3, padding=1),\\n            nn.ReLU(),\\n            nn.BatchNorm2d(64),\\n            nn.Dropout(0.25)\\n        )\\n\\n        self.selfconv = nn.Conv2d(64, 16, 1, padding=1)\\n\\n        self.pool1 = nn.MaxPool2d(2, 2) #input - 28 X 28 X 64 # Output - 14 X 14 X 64 # output  RF - 10\\n        #self.conv3 = nn.Conv2d(16, 32, 3, padding=1) # input 14 X 14 X 64 # Output - 14 X 14 X 128 # output  RF - 12\\n        self.conv3 = nn.Sequential(\\n            nn.Conv2d(16, 32, 3, padding=1),\\n            nn.ReLU(),\\n            nn.BatchNorm2d(32),\\n            nn.Dropout(0.25)\\n        )\\n        #self.conv4 = nn.Conv2d(32, 64, 3, padding=1) # input 14 X 14 X 128 # Output - 14 X 14 X 256 # output  RF - 14\\n        self.conv4 = nn.Sequential(\\n            nn.Conv2d(32, 64, 3, padding=1),\\n            nn.ReLU(),\\n            nn.BatchNorm2d(64),\\n            nn.Dropout(0.25)\\n        )\\n        self.pool2 = nn.MaxPool2d(2, 2) # input 14 X 14 X 256 # Output - 7 X 7 X 256 # output  RF - 28\\n        self.conv5 = nn.Conv2d(64, 128, 3) # input 7 X 7 X 256 # Output - 5 X 5 X 512 # output  RF - \\n        self.conv6 = nn.Conv2d(128, 256, 3)# input 5 X 5 X 512 # Output - 3 X 3 X 1024 # output  RF\\n        self.conv7 = nn.Conv2d(256, 10, 3) # input 3 X 3 X 1024 # Output - 1 X 1 X 10 # output  RF\\n\\n    def forward(self, x):\\n        #x = self.pool1()\\n        x  = F.relu(self.conv1(x))\\n\\n        x  = F.relu(self.conv2(x))\\n        x   = self.selfconv(x)\\n        x  = self.pool1(x)\\n        \\n        x = self.pool2(F.relu(self.conv4(F.relu(self.conv3(x)))))\\n        #x   = self.selfconv(x)\\n        x = F.relu(self.conv6(F.relu(self.conv5(x))))\\n        x = self.conv7(x)\\n        x = x.view(-1, 10)\\n        return F.log_softmax(x)\\n\""
            ],
            "application/vnd.google.colaboratory.intrinsic+json": {
              "type": "string"
            }
          },
          "metadata": {},
          "execution_count": 2
        }
      ]
    },
    {
      "cell_type": "code",
      "source": [
        "\"\"\"\n",
        "class Net(nn.Module):\n",
        "    def __init__(self):\n",
        "        super(Net, self).__init__()\n",
        "        # torch.nn.Conv2d Applies a 2D convolution over an input signal composed of several input planes.\n",
        "        #torch.nn.Conv2d(in_channels, out_channels, kernel_size, stride=1, padding=0, dilation=1, groups=1, bias=True, padding_mode='zeros', device=None, dtype=None)\n",
        "        # input channel is 1 , output channels 32 , number of kernels is 32, size of kernel is 3 X 3\n",
        "        #28 X 28 X 1 | (3 X 3 X 1) X 32 | 26 X 26 X 32\n",
        "        #self.conv1 = nn.Conv2d(1, 32, 3, padding=1) #input - 28 X 28 X 1 # Output - 28 X 28 X 32 # output  RF - 3 \n",
        "        self.conv1 = nn.Sequential(   ##input - 28 X 28 X 1 # Output - 26 X 26 X 16 # output  RF - 3 \n",
        "            nn.Conv2d(1, 16, 3, padding=1),\n",
        "            nn.ReLU(),\n",
        "            nn.BatchNorm2d(16),\n",
        "            nn.Dropout(0.25)\n",
        "        )\n",
        "        #self.conv2 = nn.Conv2d(32, 64, 3, padding=1) #input - 26 X 26 X 32 # Output - 24 X 24 X 64 # output  RF - 5\n",
        "        self.conv2 = nn.Sequential(\n",
        "            nn.Conv2d(16, 32, 3, padding=1),\n",
        "            nn.ReLU(),\n",
        "            nn.BatchNorm2d(32),\n",
        "            nn.Dropout(0.25)\n",
        "        )\n",
        "\n",
        "        self.selfconv = nn.Conv2d(32, 8, 1, padding=1)\n",
        "\n",
        "        self.pool1 = nn.MaxPool2d(2, 2) #input - 26 X 28 X 64 # Output - 14 X 14 X 64 # output  RF - 10\n",
        "        #self.conv3 = nn.Conv2d(16, 32, 3, padding=1) # input 14 X 14 X 64 # Output - 14 X 14 X 128 # output  RF - 12\n",
        "        self.conv3 = nn.Sequential(\n",
        "            nn.Conv2d(8, 16, 3, padding=1),\n",
        "            nn.ReLU(),\n",
        "            nn.BatchNorm2d(16),\n",
        "            nn.Dropout(0.25)\n",
        "        )\n",
        "        #self.conv4 = nn.Conv2d(32, 64, 3, padding=1) # input 14 X 14 X 128 # Output - 14 X 14 X 256 # output  RF - 14\n",
        "        self.conv4 = nn.Sequential(\n",
        "            nn.Conv2d(16, 32, 3, padding=1),\n",
        "            nn.ReLU(),\n",
        "            nn.BatchNorm2d(32),\n",
        "            nn.Dropout(0.25)\n",
        "        )\n",
        "        self.pool2 = nn.MaxPool2d(2, 2) # input 14 X 14 X 256 # Output - 7 X 7 X 256 # output  RF - 28\n",
        "        self.conv5 = nn.Conv2d(32, 64, 3) # input 7 X 7 X 256 # Output - 5 X 5 X 512 # output  RF - \n",
        "        self.conv6 = nn.Conv2d(64, 128, 3)# input 5 X 5 X 512 # Output - 3 X 3 X 1024 # output  RF\n",
        "        self.conv7 = nn.Conv2d(128, 10, 3) # input 3 X 3 X 1024 # Output - 1 X 1 X 10 # output  RF\n",
        "\n",
        "    def forward(self, x):\n",
        "        #x = self.pool1()\n",
        "        x  = F.relu(self.conv1(x))\n",
        "\n",
        "        x  = F.relu(self.conv2(x))\n",
        "        x   = self.selfconv(x)\n",
        "        x  = self.pool1(x)\n",
        "        \n",
        "        #x = self.pool2(F.relu(self.conv4(F.relu(self.conv3(x)))))\n",
        "        x  = F.relu(self.conv3(x))\n",
        "\n",
        "        x  = F.relu(self.conv4(x))\n",
        "        #x   = self.selfconv(x)\n",
        "        x  = self.pool2(x)\n",
        "                \n",
        "        x = F.relu(self.conv6(F.relu(self.conv5(x))))\n",
        "        x = self.conv7(x)\n",
        "        x = x.view(-1, 10)\n",
        "        return F.log_softmax(x)\n",
        "\n",
        "\"\"\""
      ],
      "metadata": {
        "colab": {
          "base_uri": "https://localhost:8080/",
          "height": 105
        },
        "id": "rMC0fvU7edA5",
        "outputId": "e1353c74-039e-451d-fc6d-8b325185ae73"
      },
      "execution_count": 3,
      "outputs": [
        {
          "output_type": "execute_result",
          "data": {
            "text/plain": [
              "\"\\nclass Net(nn.Module):\\n    def __init__(self):\\n        super(Net, self).__init__()\\n        # torch.nn.Conv2d Applies a 2D convolution over an input signal composed of several input planes.\\n        #torch.nn.Conv2d(in_channels, out_channels, kernel_size, stride=1, padding=0, dilation=1, groups=1, bias=True, padding_mode='zeros', device=None, dtype=None)\\n        # input channel is 1 , output channels 32 , number of kernels is 32, size of kernel is 3 X 3\\n        #28 X 28 X 1 | (3 X 3 X 1) X 32 | 26 X 26 X 32\\n        #self.conv1 = nn.Conv2d(1, 32, 3, padding=1) #input - 28 X 28 X 1 # Output - 28 X 28 X 32 # output  RF - 3 \\n        self.conv1 = nn.Sequential(   ##input - 28 X 28 X 1 # Output - 26 X 26 X 16 # output  RF - 3 \\n            nn.Conv2d(1, 16, 3, padding=1),\\n            nn.ReLU(),\\n            nn.BatchNorm2d(16),\\n            nn.Dropout(0.25)\\n        )\\n        #self.conv2 = nn.Conv2d(32, 64, 3, padding=1) #input - 26 X 26 X 32 # Output - 24 X 24 X 64 # output  RF - 5\\n        self.conv2 = nn.Sequential(\\n            nn.Conv2d(16, 32, 3, padding=1),\\n            nn.ReLU(),\\n            nn.BatchNorm2d(32),\\n            nn.Dropout(0.25)\\n        )\\n\\n        self.selfconv = nn.Conv2d(32, 8, 1, padding=1)\\n\\n        self.pool1 = nn.MaxPool2d(2, 2) #input - 26 X 28 X 64 # Output - 14 X 14 X 64 # output  RF - 10\\n        #self.conv3 = nn.Conv2d(16, 32, 3, padding=1) # input 14 X 14 X 64 # Output - 14 X 14 X 128 # output  RF - 12\\n        self.conv3 = nn.Sequential(\\n            nn.Conv2d(8, 16, 3, padding=1),\\n            nn.ReLU(),\\n            nn.BatchNorm2d(16),\\n            nn.Dropout(0.25)\\n        )\\n        #self.conv4 = nn.Conv2d(32, 64, 3, padding=1) # input 14 X 14 X 128 # Output - 14 X 14 X 256 # output  RF - 14\\n        self.conv4 = nn.Sequential(\\n            nn.Conv2d(16, 32, 3, padding=1),\\n            nn.ReLU(),\\n            nn.BatchNorm2d(32),\\n            nn.Dropout(0.25)\\n        )\\n        self.pool2 = nn.MaxPool2d(2, 2) # input 14 X 14 X 256 # Output - 7 X 7 X 256 # output  RF - 28\\n        self.conv5 = nn.Conv2d(32, 64, 3) # input 7 X 7 X 256 # Output - 5 X 5 X 512 # output  RF - \\n        self.conv6 = nn.Conv2d(64, 128, 3)# input 5 X 5 X 512 # Output - 3 X 3 X 1024 # output  RF\\n        self.conv7 = nn.Conv2d(128, 10, 3) # input 3 X 3 X 1024 # Output - 1 X 1 X 10 # output  RF\\n\\n    def forward(self, x):\\n        #x = self.pool1()\\n        x  = F.relu(self.conv1(x))\\n\\n        x  = F.relu(self.conv2(x))\\n        x   = self.selfconv(x)\\n        x  = self.pool1(x)\\n        \\n        #x = self.pool2(F.relu(self.conv4(F.relu(self.conv3(x)))))\\n        x  = F.relu(self.conv3(x))\\n\\n        x  = F.relu(self.conv4(x))\\n        #x   = self.selfconv(x)\\n        x  = self.pool2(x)\\n                \\n        x = F.relu(self.conv6(F.relu(self.conv5(x))))\\n        x = self.conv7(x)\\n        x = x.view(-1, 10)\\n        return F.log_softmax(x)\\n\\n\""
            ],
            "application/vnd.google.colaboratory.intrinsic+json": {
              "type": "string"
            }
          },
          "metadata": {},
          "execution_count": 3
        }
      ]
    },
    {
      "cell_type": "code",
      "source": [
        "\"\"\"class Net(nn.Module):\n",
        "    def __init__(self):\n",
        "        super(Net, self).__init__()\n",
        "        # torch.nn.Conv2d Applies a 2D convolution over an input signal composed of several input planes.\n",
        "        #torch.nn.Conv2d(in_channels, out_channels, kernel_size, stride=1, padding=0, dilation=1, groups=1, bias=True, padding_mode='zeros', device=None, dtype=None)\n",
        "        # input channel is 1 , output channels 32 , number of kernels is 32, size of kernel is 3 X 3\n",
        "        #28 X 28 X 1 | (3 X 3 X 1) X 32 | 26 X 26 X 32\n",
        "        #self.conv1 = nn.Conv2d(1, 32, 3, padding=1) #input - 28 X 28 X 1 # Output - 28 X 28 X 32 # output  RF - 3 \n",
        "        self.conv1 = nn.Sequential(   ##input - 28 X 28 X 1 # Output - 26 X 26 X 16 # output  RF - 3 \n",
        "            nn.Conv2d(1, 16, 3, padding=0),\n",
        "            nn.ReLU(),\n",
        "            nn.BatchNorm2d(16),\n",
        "            nn.Dropout(0.25)\n",
        "        )\n",
        "        #self.conv2 = nn.Conv2d(32, 64, 3, padding=1) \n",
        "        self.conv2 = nn.Sequential( ##input - 26 X 26 X 16 # Output - 24 X 24 X 32 # output  RF - 5\n",
        "            nn.Conv2d(16, 32, 3, padding=0),\n",
        "            nn.ReLU(),\n",
        "            nn.BatchNorm2d(32),\n",
        "            nn.Dropout(0.25)\n",
        "        )\n",
        "\n",
        "        self.selfconv = nn.Conv2d(32, 8, 1, padding=0) ##input - 24 X 24 X 32 # Output - 24 X 24 X 8 # output  RF - 5\n",
        "\n",
        "        self.pool1 = nn.MaxPool2d(2, 2) #input - 24 X 24 X 8 # Output - 12 X 12 X 8 # output  RF - 10\n",
        "        #self.conv3 = nn.Conv2d(16, 32, 3, padding=1) # input 14 X 14 X 64 # Output - 14 X 14 X 128 # output  RF - 12\n",
        "        self.conv3 = nn.Sequential( # input 12 X 12 X 8 # Output - 10 X 10 X 16 # output  RF - 12\n",
        "            nn.Conv2d(8, 16, 3, padding=0),\n",
        "            nn.ReLU(),\n",
        "            nn.BatchNorm2d(16),\n",
        "            nn.Dropout(0.25)\n",
        "        )\n",
        "        #self.conv4 = nn.Conv2d(32, 64, 3, padding=1) # input 14 X 14 X 128 # Output - 14 X 14 X 256 # output  RF - 14\n",
        "        self.conv4 = nn.Sequential( # input 10 X 10 X 16 # Output - 10 X 10 X 32 # output  RF - 14\n",
        "            nn.Conv2d(16, 32, 3, padding=1),\n",
        "            nn.ReLU(),\n",
        "            nn.BatchNorm2d(32),\n",
        "            nn.Dropout(0.25)\n",
        "        )\n",
        "\n",
        "             \n",
        "        self.selfconv = nn.Conv2d(32, 8, 1, padding=0) # input 10 X 10 X 32 # Output - 10 X 10 X 8 # output  RF - 28\n",
        "        self.pool2 = nn.MaxPool2d(2, 2) # input 10 X 10 X 8 # Output - 5 X 5 X 8 # output  RF - 28\n",
        "        self.conv5 = nn.Conv2d(8, 16, 3) # input 5 X 5 X 8 # Output - 3 X 3 X 16 # output  RF - \n",
        "        #self.conv6 = nn.Conv2d(16, 32, 3)# input 3 X 3 X 16 # Output - 1 X 1 X 32 # output  RF\n",
        "        #self.conv7 = nn.Conv2d(64, 10, 3) # input 3 X 3 X 1024 # Output - 1 X 1 X 10 # output  RF\n",
        "        self.conv6 = nn.Sequential( # input 10 X 10 X 16 # Output - 10 X 10 X 32 # output  RF - 14\n",
        "            nn.Conv2d(16, 32, 3, padding=0),\n",
        "            nn.ReLU(),\n",
        "            nn.AvgPool2d((1,1)),\n",
        "            nn.Dropout(0.25)\n",
        "        )\n",
        "        self.fc1 = nn.Sequential(\n",
        "            nn.Linear(32, 16)\n",
        "        )\n",
        "        self.fc2 = nn.Sequential(\n",
        "            nn.Linear(16, 10)\n",
        "        )\n",
        "\n",
        "    def forward(self, x):\n",
        "        #x = self.pool1()\n",
        "        x  = F.relu(self.conv1(x))\n",
        "\n",
        "        x  = F.relu(self.conv2(x))\n",
        "        x   = self.selfconv(x)\n",
        "        x  = self.pool1(x)\n",
        "        \n",
        "        #x = self.pool2(F.relu(self.conv4(F.relu(self.conv3(x)))))\n",
        "        x  = F.relu(self.conv3(x))\n",
        "\n",
        "        x  = F.relu(self.conv4(x))\n",
        "        #x = x.view(-1, 32)\n",
        "  \n",
        "        x   = self.selfconv(x)\n",
        "        x  = self.pool2(x)\n",
        "\n",
        "        x = F.relu(self.conv3(x))\n",
        "        x = F.relu(self.conv6(x))\n",
        "        #x = self.conv6(x)\n",
        "        #print (x.shape)\n",
        "        #x = x.view(-1, 64)\n",
        "        x = x.view(x.size(0), -1)\n",
        "        x = self.fc1(x)\n",
        "        x = self.fc2(x)\n",
        "        x = x.view(-1, 10)\n",
        "        #print (x.shape)\n",
        "        return F.log_softmax(x)\n",
        "\t\t\"\"\""
      ],
      "metadata": {
        "colab": {
          "base_uri": "https://localhost:8080/",
          "height": 105
        },
        "id": "z7-nXeMaqBqI",
        "outputId": "f2de2575-4e04-41f7-f8a3-95a56dd9ff4a"
      },
      "execution_count": 4,
      "outputs": [
        {
          "output_type": "execute_result",
          "data": {
            "text/plain": [
              "\"class Net(nn.Module):\\n    def __init__(self):\\n        super(Net, self).__init__()\\n        # torch.nn.Conv2d Applies a 2D convolution over an input signal composed of several input planes.\\n        #torch.nn.Conv2d(in_channels, out_channels, kernel_size, stride=1, padding=0, dilation=1, groups=1, bias=True, padding_mode='zeros', device=None, dtype=None)\\n        # input channel is 1 , output channels 32 , number of kernels is 32, size of kernel is 3 X 3\\n        #28 X 28 X 1 | (3 X 3 X 1) X 32 | 26 X 26 X 32\\n        #self.conv1 = nn.Conv2d(1, 32, 3, padding=1) #input - 28 X 28 X 1 # Output - 28 X 28 X 32 # output  RF - 3 \\n        self.conv1 = nn.Sequential(   ##input - 28 X 28 X 1 # Output - 26 X 26 X 16 # output  RF - 3 \\n            nn.Conv2d(1, 16, 3, padding=0),\\n            nn.ReLU(),\\n            nn.BatchNorm2d(16),\\n            nn.Dropout(0.25)\\n        )\\n        #self.conv2 = nn.Conv2d(32, 64, 3, padding=1) \\n        self.conv2 = nn.Sequential( ##input - 26 X 26 X 16 # Output - 24 X 24 X 32 # output  RF - 5\\n            nn.Conv2d(16, 32, 3, padding=0),\\n            nn.ReLU(),\\n            nn.BatchNorm2d(32),\\n            nn.Dropout(0.25)\\n        )\\n\\n        self.selfconv = nn.Conv2d(32, 8, 1, padding=0) ##input - 24 X 24 X 32 # Output - 24 X 24 X 8 # output  RF - 5\\n\\n        self.pool1 = nn.MaxPool2d(2, 2) #input - 24 X 24 X 8 # Output - 12 X 12 X 8 # output  RF - 10\\n        #self.conv3 = nn.Conv2d(16, 32, 3, padding=1) # input 14 X 14 X 64 # Output - 14 X 14 X 128 # output  RF - 12\\n        self.conv3 = nn.Sequential( # input 12 X 12 X 8 # Output - 10 X 10 X 16 # output  RF - 12\\n            nn.Conv2d(8, 16, 3, padding=0),\\n            nn.ReLU(),\\n            nn.BatchNorm2d(16),\\n            nn.Dropout(0.25)\\n        )\\n        #self.conv4 = nn.Conv2d(32, 64, 3, padding=1) # input 14 X 14 X 128 # Output - 14 X 14 X 256 # output  RF - 14\\n        self.conv4 = nn.Sequential( # input 10 X 10 X 16 # Output - 10 X 10 X 32 # output  RF - 14\\n            nn.Conv2d(16, 32, 3, padding=1),\\n            nn.ReLU(),\\n            nn.BatchNorm2d(32),\\n            nn.Dropout(0.25)\\n        )\\n\\n             \\n        self.selfconv = nn.Conv2d(32, 8, 1, padding=0) # input 10 X 10 X 32 # Output - 10 X 10 X 8 # output  RF - 28\\n        self.pool2 = nn.MaxPool2d(2, 2) # input 10 X 10 X 8 # Output - 5 X 5 X 8 # output  RF - 28\\n        self.conv5 = nn.Conv2d(8, 16, 3) # input 5 X 5 X 8 # Output - 3 X 3 X 16 # output  RF - \\n        #self.conv6 = nn.Conv2d(16, 32, 3)# input 3 X 3 X 16 # Output - 1 X 1 X 32 # output  RF\\n        #self.conv7 = nn.Conv2d(64, 10, 3) # input 3 X 3 X 1024 # Output - 1 X 1 X 10 # output  RF\\n        self.conv6 = nn.Sequential( # input 10 X 10 X 16 # Output - 10 X 10 X 32 # output  RF - 14\\n            nn.Conv2d(16, 32, 3, padding=0),\\n            nn.ReLU(),\\n            nn.AvgPool2d((1,1)),\\n            nn.Dropout(0.25)\\n        )\\n        self.fc1 = nn.Sequential(\\n            nn.Linear(32, 16)\\n        )\\n        self.fc2 = nn.Sequential(\\n            nn.Linear(16, 10)\\n        )\\n\\n    def forward(self, x):\\n        #x = self.pool1()\\n        x  = F.relu(self.conv1(x))\\n\\n        x  = F.relu(self.conv2(x))\\n        x   = self.selfconv(x)\\n        x  = self.pool1(x)\\n        \\n        #x = self.pool2(F.relu(self.conv4(F.relu(self.conv3(x)))))\\n        x  = F.relu(self.conv3(x))\\n\\n        x  = F.relu(self.conv4(x))\\n        #x = x.view(-1, 32)\\n  \\n        x   = self.selfconv(x)\\n        x  = self.pool2(x)\\n\\n        x = F.relu(self.conv3(x))\\n        x = F.relu(self.conv6(x))\\n        #x = self.conv6(x)\\n        #print (x.shape)\\n        #x = x.view(-1, 64)\\n        x = x.view(x.size(0), -1)\\n        x = self.fc1(x)\\n        x = self.fc2(x)\\n        x = x.view(-1, 10)\\n        #print (x.shape)\\n        return F.log_softmax(x)\\n\\t\\t\""
            ],
            "application/vnd.google.colaboratory.intrinsic+json": {
              "type": "string"
            }
          },
          "metadata": {},
          "execution_count": 4
        }
      ]
    },
    {
      "cell_type": "code",
      "source": [
        "import torch.nn as nn\n",
        "class Net(nn.Module):\n",
        "    def __init__(self):\n",
        "        super(Net, self).__init__()\n",
        "        self.conv1 = nn.Sequential(         \n",
        "            nn.Conv2d(\n",
        "                in_channels=1,              \n",
        "                out_channels=16,            \n",
        "                kernel_size=5,              \n",
        "                stride=1,                   \n",
        "                padding=0,                  \n",
        "            ),                              \n",
        "            nn.ReLU(),                      \n",
        "            nn.BatchNorm2d(16),\n",
        "            nn.MaxPool2d(kernel_size=2),     \n",
        "            nn.Dropout(0.25)    \n",
        "        )\n",
        "\n",
        "        self.conv2 = nn.Sequential(         \n",
        "            nn.Conv2d(16, 32, 5, 1, 0),     \n",
        "            nn.ReLU(),                     \n",
        "            nn.BatchNorm2d(32),\n",
        "            nn.Dropout(0.25),\n",
        "            #nn.MaxPool2d(kernel_size=2)               \n",
        "        )\n",
        "        self.selfconv = nn.Conv2d(32, 8, 1, padding=0)\n",
        "        # fully connected layer, output 10 classes\n",
        "\n",
        "        self.out = nn.Sequential(\n",
        "            nn.Linear(8 * 8 * 8, 10),                 \n",
        "            nn.Dropout(0.25)\n",
        "        )\n",
        "    def forward(self, x):\n",
        "        x = self.conv1(x)\n",
        "        x = self.conv2(x)\n",
        "        #print(x.shape)\n",
        "        x = self.selfconv(x)\n",
        "        x = F.adaptive_avg_pool2d(x, (8, 8))\n",
        "        #print(x.shape)\n",
        "        #x = self.conv3(x)\n",
        "        #print(x.shape)\n",
        "        # flatten the output of conv2 to (batch_size, 32 * 7 * 7)\n",
        "        x = x.view(x.size(0), -1)       \n",
        "        output = self.out(x)\n",
        "        return  F.log_softmax(output)   # return x for visualization"
      ],
      "metadata": {
        "id": "JdiwCOu82dOA"
      },
      "execution_count": 5,
      "outputs": []
    },
    {
      "cell_type": "code",
      "metadata": {
        "id": "xdydjYTZFyi3",
        "colab": {
          "base_uri": "https://localhost:8080/"
        },
        "outputId": "56bd9e4c-231f-44d3-ae53-05ec7a2b6380"
      },
      "source": [
        "!pip install torchsummary\n",
        "#API to view the visualization of the model, which is helpful while debugging your network.\n",
        "from torchsummary import summary\n",
        "# Returns a bool indicating if CUDA is currently available.\n",
        "# NVIDIA’s CUDA is a general purpose parallel computing platform and programming model that accelerates deep learning and other compute-intensive apps by taking advantage of the parallel processing power of GPUs.\n",
        "use_cuda = torch.cuda.is_available()\n",
        "# A torch.device is an object representing the device on which a torch.Tensor is or will be allocated.\n",
        "device = torch.device(\"cuda\" if use_cuda else \"cpu\")\n",
        "# Specify which device to use\n",
        "model = Net().to(device)\n",
        "# Model summary\n",
        "summary(model, input_size=(1, 28, 28))"
      ],
      "execution_count": 6,
      "outputs": [
        {
          "output_type": "stream",
          "name": "stdout",
          "text": [
            "Looking in indexes: https://pypi.org/simple, https://us-python.pkg.dev/colab-wheels/public/simple/\n",
            "Requirement already satisfied: torchsummary in /usr/local/lib/python3.8/dist-packages (1.5.1)\n",
            "----------------------------------------------------------------\n",
            "        Layer (type)               Output Shape         Param #\n",
            "================================================================\n",
            "            Conv2d-1           [-1, 16, 24, 24]             416\n",
            "              ReLU-2           [-1, 16, 24, 24]               0\n",
            "       BatchNorm2d-3           [-1, 16, 24, 24]              32\n",
            "         MaxPool2d-4           [-1, 16, 12, 12]               0\n",
            "           Dropout-5           [-1, 16, 12, 12]               0\n",
            "            Conv2d-6             [-1, 32, 8, 8]          12,832\n",
            "              ReLU-7             [-1, 32, 8, 8]               0\n",
            "       BatchNorm2d-8             [-1, 32, 8, 8]              64\n",
            "           Dropout-9             [-1, 32, 8, 8]               0\n",
            "           Conv2d-10              [-1, 8, 8, 8]             264\n",
            "           Linear-11                   [-1, 10]           5,130\n",
            "          Dropout-12                   [-1, 10]               0\n",
            "================================================================\n",
            "Total params: 18,738\n",
            "Trainable params: 18,738\n",
            "Non-trainable params: 0\n",
            "----------------------------------------------------------------\n",
            "Input size (MB): 0.00\n",
            "Forward/backward pass size (MB): 0.31\n",
            "Params size (MB): 0.07\n",
            "Estimated Total Size (MB): 0.39\n",
            "----------------------------------------------------------------\n"
          ]
        },
        {
          "output_type": "stream",
          "name": "stderr",
          "text": [
            "<ipython-input-5-2e2d2b94cf6a>:45: UserWarning: Implicit dimension choice for log_softmax has been deprecated. Change the call to include dim=X as an argument.\n",
            "  return  F.log_softmax(output)   # return x for visualization\n"
          ]
        }
      ]
    },
    {
      "cell_type": "code",
      "metadata": {
        "id": "DqTWLaM5GHgH"
      },
      "source": [
        "\n",
        "#Sets the seed for generating random numbers. Returns a torch.Generator object.\n",
        "\n",
        "torch.manual_seed(1)\n",
        "#batch_size = 128\n",
        "batch_size = 128\n",
        "#PyTorch's DataLoader class, which in addition to our Dataset class, also takes in the following important arguments:\n",
        "\n",
        "#batch_size, which denotes the number of samples contained in each generated batch.\n",
        "#shuffle. If set to True, we will get a new order of exploration at each pass (or just keep a linear exploration scheme otherwise). Shuffling the order in which examples are fed to the classifier is helpful so that batches between epochs do not look alike. Doing so will eventually make our model more robust.\n",
        "#num_workers, which denotes the number of processes that generate batches in parallel. A high enough number of workers assures that CPU computations are efficiently managed, i.e. that the bottleneck is indeed the neural network's forward and backward operations on the GPU (and not data generation).\n",
        "kwargs = {'num_workers': 1, 'pin_memory': True} if use_cuda else {}\n",
        "# Download training data \n",
        "train_loader = torch.utils.data.DataLoader(\n",
        "    datasets.MNIST('../data', train=True, download=True, \n",
        "                    transform=transforms.Compose([ # Composes several transforms together.\n",
        "                        transforms.ToTensor(), # Convert a PIL Image or numpy.ndarray to tensor.\n",
        "                        transforms.Normalize((0.1307,), (0.3081,)) # Normalize(mean, std[, inplace]) Normalize a tensor image with mean and standard deviation.\n",
        "                    ])),\n",
        "    batch_size=batch_size, shuffle=True, **kwargs)\n",
        "test_loader = torch.utils.data.DataLoader(\n",
        "    datasets.MNIST('../data', train=False, transform=transforms.Compose([\n",
        "                        transforms.ToTensor(),\n",
        "                        transforms.Normalize((0.1307,), (0.3081,))\n",
        "                    ])),\n",
        "    batch_size=batch_size, shuffle=True, **kwargs)\n"
      ],
      "execution_count": 7,
      "outputs": []
    },
    {
      "cell_type": "code",
      "metadata": {
        "id": "8fDefDhaFlwH"
      },
      "source": [
        "from tqdm import tqdm\n",
        "# model defined above\n",
        "# device in this case will cpu\n",
        "# train loader to download training images and transform into tensor \n",
        "# SGD optimizer\n",
        "# The learning rate controls how quickly the model is adapted to the problem. Smaller learning rates require more training epochs given the smaller changes made to the weights each update, whereas larger learning rates result in rapid changes and require fewer training epochs.\n",
        "def train(model, device, train_loader, optimizer, epoch):\n",
        "    model.train()\n",
        "    pbar = tqdm(train_loader)\n",
        "    for batch_idx, (data, target) in enumerate(pbar):\n",
        "        data, target = data.to(device), target.to(device)\n",
        "        optimizer.zero_grad() # Sets the gradients of all optimized torch.Tensor s to zero.\n",
        "        output = model(data)\n",
        "        # loss function\n",
        "        loss = F.nll_loss(output, target) # loss function - The negative log likelihood loss.\n",
        "        loss.backward() \n",
        "        optimizer.step()\n",
        "        pbar.set_description(desc= f'loss={loss.item()} batch_id={batch_idx}')\n",
        "\n",
        "\n",
        "def test(model, device, test_loader):\n",
        "    model.eval()\n",
        "    test_loss = 0\n",
        "    correct = 0\n",
        "    with torch.no_grad():\n",
        "        for data, target in test_loader:\n",
        "            data, target = data.to(device), target.to(device)\n",
        "            output = model(data)\n",
        "            test_loss += F.nll_loss(output, target, reduction='sum').item()  # sum up batch loss\n",
        "            pred = output.argmax(dim=1, keepdim=True)  # get the index of the max log-probability\n",
        "            correct += pred.eq(target.view_as(pred)).sum().item()\n",
        "\n",
        "    test_loss /= len(test_loader.dataset)\n",
        "\n",
        "    print('\\nTest set: Average loss: {:.4f}, Accuracy: {}/{} ({:.0f}%)\\n'.format(\n",
        "        test_loss, correct, len(test_loader.dataset),\n",
        "        100. * correct / len(test_loader.dataset)))"
      ],
      "execution_count": 8,
      "outputs": []
    },
    {
      "cell_type": "code",
      "metadata": {
        "id": "MMWbLWO6FuHb",
        "colab": {
          "base_uri": "https://localhost:8080/"
        },
        "outputId": "8c585160-cf88-426d-8fc5-1b219b32a1ba"
      },
      "source": [
        "\n",
        "model = Net().to(device)\n",
        "\n",
        "#torch.optim.SGD(params, lr=<required parameter>, momentum=0, dampening=0, weight_decay=0, nesterov=False, *, maximize=False, foreach=None, differentiable=False)\n",
        "#params (iterable) – iterable of parameters to optimize or dicts defining parameter groups\n",
        "\n",
        "#lr (float) – learning rate\n",
        "\n",
        "#momentum (float, optional) – momentum factor (default: 0)\n",
        "\n",
        "#weight_decay (float, optional) – weight decay (L2 penalty) (default: 0)\n",
        "\n",
        "#dampening (float, optional) – dampening for momentum (default: 0)\n",
        "\n",
        "#nesterov (bool, optional) – enables Nesterov momentum (default: False)\n",
        "\n",
        "#maximize (bool, optional) – maximize the params based on the objective, instead of minimizing (default: False)\n",
        "\n",
        "#foreach (bool, optional) – whether foreach implementation of optimizer is used (default: None)\n",
        "optimizer = optim.SGD(model.parameters(), lr=0.01, momentum=0.9)\n",
        "epochs = 20\n",
        "for epoch in range(1, epochs + 1):\n",
        "    print('epoch value is , ', epoch)\n",
        "    train(model, device, train_loader, optimizer, epoch)\n",
        "    test(model, device, test_loader)\n",
        "\n",
        "# Test set: Average loss: 0.3189, Accuracy: 8758/10000 (88%) - lr=0.01, momentum=0.9 , epoch 1, batch_size = 128\n",
        "# Test set: Average loss: 0.4987, Accuracy: 7927/10000 (79%) - lr=0.02, momentum=0.9 , epoch 1 , batch_size = 128\n",
        "# Test set: Average loss: 1.8482, Accuracy: 3000/10000 (30%) - lr=0.03, momentum=0.9 , epoch 1 , batch_size = 128\n",
        "# lr=0.01, momentum=0.9 , epoch 9\n",
        "# accuracy at epoch 3\n",
        "#Test set: Average loss: 0.0377, Accuracy: 9874/10000 (99%)\n",
        "\n",
        "# accuracy starts decreasing for same parameters even after run time restart\n",
        "#Test set: Average loss: 0.7211, Accuracy: 6943/10000 (69%) # lr=0.01, momentum=0.9 , epoch 4  , batch_size = 128\n",
        "\n",
        "### changing batch size to 16\n",
        "\n",
        "#Test set: Average loss: 1.4329, Accuracy: 4815/10000 (48%) # lr=0.01, momentum=0.9 , epoch 4  , batch_size = 16\n"
      ],
      "execution_count": 9,
      "outputs": [
        {
          "output_type": "stream",
          "name": "stdout",
          "text": [
            "epoch value is ,  1\n"
          ]
        },
        {
          "output_type": "stream",
          "name": "stderr",
          "text": [
            "  0%|          | 0/469 [00:00<?, ?it/s]<ipython-input-5-2e2d2b94cf6a>:45: UserWarning: Implicit dimension choice for log_softmax has been deprecated. Change the call to include dim=X as an argument.\n",
            "  return  F.log_softmax(output)   # return x for visualization\n",
            "loss=0.41467615962028503 batch_id=468: 100%|██████████| 469/469 [00:18<00:00, 25.93it/s]\n"
          ]
        },
        {
          "output_type": "stream",
          "name": "stdout",
          "text": [
            "\n",
            "Test set: Average loss: 0.0617, Accuracy: 9817/10000 (98%)\n",
            "\n",
            "epoch value is ,  2\n"
          ]
        },
        {
          "output_type": "stream",
          "name": "stderr",
          "text": [
            "loss=0.3023485839366913 batch_id=468: 100%|██████████| 469/469 [00:14<00:00, 33.16it/s]\n"
          ]
        },
        {
          "output_type": "stream",
          "name": "stdout",
          "text": [
            "\n",
            "Test set: Average loss: 0.0368, Accuracy: 9886/10000 (99%)\n",
            "\n",
            "epoch value is ,  3\n"
          ]
        },
        {
          "output_type": "stream",
          "name": "stderr",
          "text": [
            "loss=0.3169761598110199 batch_id=468: 100%|██████████| 469/469 [00:14<00:00, 32.73it/s]\n"
          ]
        },
        {
          "output_type": "stream",
          "name": "stdout",
          "text": [
            "\n",
            "Test set: Average loss: 0.0358, Accuracy: 9891/10000 (99%)\n",
            "\n",
            "epoch value is ,  4\n"
          ]
        },
        {
          "output_type": "stream",
          "name": "stderr",
          "text": [
            "loss=0.27906814217567444 batch_id=468: 100%|██████████| 469/469 [00:14<00:00, 32.81it/s]\n"
          ]
        },
        {
          "output_type": "stream",
          "name": "stdout",
          "text": [
            "\n",
            "Test set: Average loss: 0.0291, Accuracy: 9902/10000 (99%)\n",
            "\n",
            "epoch value is ,  5\n"
          ]
        },
        {
          "output_type": "stream",
          "name": "stderr",
          "text": [
            "loss=0.33495959639549255 batch_id=468: 100%|██████████| 469/469 [00:14<00:00, 31.35it/s]\n"
          ]
        },
        {
          "output_type": "stream",
          "name": "stdout",
          "text": [
            "\n",
            "Test set: Average loss: 0.0282, Accuracy: 9906/10000 (99%)\n",
            "\n",
            "epoch value is ,  6\n"
          ]
        },
        {
          "output_type": "stream",
          "name": "stderr",
          "text": [
            "loss=0.3391077220439911 batch_id=468: 100%|██████████| 469/469 [00:14<00:00, 32.94it/s]\n"
          ]
        },
        {
          "output_type": "stream",
          "name": "stdout",
          "text": [
            "\n",
            "Test set: Average loss: 0.0313, Accuracy: 9898/10000 (99%)\n",
            "\n",
            "epoch value is ,  7\n"
          ]
        },
        {
          "output_type": "stream",
          "name": "stderr",
          "text": [
            "loss=0.43999719619750977 batch_id=468: 100%|██████████| 469/469 [00:14<00:00, 32.61it/s]\n"
          ]
        },
        {
          "output_type": "stream",
          "name": "stdout",
          "text": [
            "\n",
            "Test set: Average loss: 0.0281, Accuracy: 9907/10000 (99%)\n",
            "\n",
            "epoch value is ,  8\n"
          ]
        },
        {
          "output_type": "stream",
          "name": "stderr",
          "text": [
            "loss=0.23867179453372955 batch_id=468: 100%|██████████| 469/469 [00:14<00:00, 32.95it/s]\n"
          ]
        },
        {
          "output_type": "stream",
          "name": "stdout",
          "text": [
            "\n",
            "Test set: Average loss: 0.0265, Accuracy: 9913/10000 (99%)\n",
            "\n",
            "epoch value is ,  9\n"
          ]
        },
        {
          "output_type": "stream",
          "name": "stderr",
          "text": [
            "loss=0.3666686713695526 batch_id=468: 100%|██████████| 469/469 [00:14<00:00, 32.67it/s]\n"
          ]
        },
        {
          "output_type": "stream",
          "name": "stdout",
          "text": [
            "\n",
            "Test set: Average loss: 0.0260, Accuracy: 9915/10000 (99%)\n",
            "\n",
            "epoch value is ,  10\n"
          ]
        },
        {
          "output_type": "stream",
          "name": "stderr",
          "text": [
            "loss=0.27163195610046387 batch_id=468: 100%|██████████| 469/469 [00:14<00:00, 32.96it/s]\n"
          ]
        },
        {
          "output_type": "stream",
          "name": "stdout",
          "text": [
            "\n",
            "Test set: Average loss: 0.0253, Accuracy: 9920/10000 (99%)\n",
            "\n",
            "epoch value is ,  11\n"
          ]
        },
        {
          "output_type": "stream",
          "name": "stderr",
          "text": [
            "loss=0.36289963126182556 batch_id=468: 100%|██████████| 469/469 [00:15<00:00, 31.11it/s]\n"
          ]
        },
        {
          "output_type": "stream",
          "name": "stdout",
          "text": [
            "\n",
            "Test set: Average loss: 0.0247, Accuracy: 9923/10000 (99%)\n",
            "\n",
            "epoch value is ,  12\n"
          ]
        },
        {
          "output_type": "stream",
          "name": "stderr",
          "text": [
            "loss=0.30133771896362305 batch_id=468: 100%|██████████| 469/469 [00:14<00:00, 33.27it/s]\n"
          ]
        },
        {
          "output_type": "stream",
          "name": "stdout",
          "text": [
            "\n",
            "Test set: Average loss: 0.0250, Accuracy: 9917/10000 (99%)\n",
            "\n",
            "epoch value is ,  13\n"
          ]
        },
        {
          "output_type": "stream",
          "name": "stderr",
          "text": [
            "loss=0.27875521779060364 batch_id=468: 100%|██████████| 469/469 [00:14<00:00, 32.87it/s]\n"
          ]
        },
        {
          "output_type": "stream",
          "name": "stdout",
          "text": [
            "\n",
            "Test set: Average loss: 0.0254, Accuracy: 9916/10000 (99%)\n",
            "\n",
            "epoch value is ,  14\n"
          ]
        },
        {
          "output_type": "stream",
          "name": "stderr",
          "text": [
            "loss=0.416912704706192 batch_id=468: 100%|██████████| 469/469 [00:14<00:00, 32.84it/s]\n"
          ]
        },
        {
          "output_type": "stream",
          "name": "stdout",
          "text": [
            "\n",
            "Test set: Average loss: 0.0249, Accuracy: 9925/10000 (99%)\n",
            "\n",
            "epoch value is ,  15\n"
          ]
        },
        {
          "output_type": "stream",
          "name": "stderr",
          "text": [
            "loss=0.2750079333782196 batch_id=468: 100%|██████████| 469/469 [00:14<00:00, 33.02it/s]\n"
          ]
        },
        {
          "output_type": "stream",
          "name": "stdout",
          "text": [
            "\n",
            "Test set: Average loss: 0.0225, Accuracy: 9925/10000 (99%)\n",
            "\n",
            "epoch value is ,  16\n"
          ]
        },
        {
          "output_type": "stream",
          "name": "stderr",
          "text": [
            "loss=0.38263556361198425 batch_id=468: 100%|██████████| 469/469 [00:14<00:00, 33.16it/s]\n"
          ]
        },
        {
          "output_type": "stream",
          "name": "stdout",
          "text": [
            "\n",
            "Test set: Average loss: 0.0247, Accuracy: 9933/10000 (99%)\n",
            "\n",
            "epoch value is ,  17\n"
          ]
        },
        {
          "output_type": "stream",
          "name": "stderr",
          "text": [
            "loss=0.2603887617588043 batch_id=468: 100%|██████████| 469/469 [00:14<00:00, 33.28it/s]\n"
          ]
        },
        {
          "output_type": "stream",
          "name": "stdout",
          "text": [
            "\n",
            "Test set: Average loss: 0.0267, Accuracy: 9914/10000 (99%)\n",
            "\n",
            "epoch value is ,  18\n"
          ]
        },
        {
          "output_type": "stream",
          "name": "stderr",
          "text": [
            "loss=0.29445910453796387 batch_id=468: 100%|██████████| 469/469 [00:14<00:00, 32.96it/s]\n"
          ]
        },
        {
          "output_type": "stream",
          "name": "stdout",
          "text": [
            "\n",
            "Test set: Average loss: 0.0235, Accuracy: 9922/10000 (99%)\n",
            "\n",
            "epoch value is ,  19\n"
          ]
        },
        {
          "output_type": "stream",
          "name": "stderr",
          "text": [
            "loss=0.3219660222530365 batch_id=468: 100%|██████████| 469/469 [00:14<00:00, 32.98it/s]\n"
          ]
        },
        {
          "output_type": "stream",
          "name": "stdout",
          "text": [
            "\n",
            "Test set: Average loss: 0.0240, Accuracy: 9918/10000 (99%)\n",
            "\n",
            "epoch value is ,  20\n"
          ]
        },
        {
          "output_type": "stream",
          "name": "stderr",
          "text": [
            "loss=0.1867969036102295 batch_id=468: 100%|██████████| 469/469 [00:14<00:00, 33.19it/s]\n"
          ]
        },
        {
          "output_type": "stream",
          "name": "stdout",
          "text": [
            "\n",
            "Test set: Average loss: 0.0285, Accuracy: 9912/10000 (99%)\n",
            "\n"
          ]
        }
      ]
    },
    {
      "cell_type": "code",
      "metadata": {
        "id": "So5uk4EkHW6R"
      },
      "source": [],
      "execution_count": 9,
      "outputs": []
    }
  ]
}